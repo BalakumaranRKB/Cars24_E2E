{
 "cells": [
  {
   "cell_type": "code",
   "execution_count": 16,
   "id": "db8022be",
   "metadata": {},
   "outputs": [],
   "source": [
    "import shutil\n",
    "import sqlite3\n",
    "from datetime import datetime\n",
    "from os import listdir\n",
    "import os\n",
    "import csv"
   ]
  },
  {
   "cell_type": "code",
   "execution_count": 2,
   "id": "9137bc72",
   "metadata": {},
   "outputs": [],
   "source": [
    "conn = sqlite3.connect('C:/Users/ADMIN/Desktop/Cars24 E2E/code/Training_Database'+'Training'+'.db')"
   ]
  },
  {
   "cell_type": "code",
   "execution_count": 3,
   "id": "0a5ad7eb",
   "metadata": {},
   "outputs": [],
   "source": [
    "c=conn.cursor()"
   ]
  },
  {
   "cell_type": "code",
   "execution_count": 4,
   "id": "c7d30a2d",
   "metadata": {},
   "outputs": [],
   "source": [
    "column_names = {'Sl_No': ' integer', 'Full_Info': ' varchar', 'Transmission_Type': ' char', 'Ownership': ' varchar', 'Fuel_Used': ' char', 'brand_name': ' varchar', 'km_driven': ' integer', 'selling_price': ' integer', 'Year_of_Manufacture': ' integer', 'Place_of_Origin': ' varchar', 'Age': ' integer'}"
   ]
  },
  {
   "cell_type": "code",
   "execution_count": 5,
   "id": "753ad0a8",
   "metadata": {},
   "outputs": [
    {
     "data": {
      "text/plain": [
       "<sqlite3.Cursor at 0x1e8c9322ce0>"
      ]
     },
     "execution_count": 5,
     "metadata": {},
     "output_type": "execute_result"
    }
   ],
   "source": [
    "c.execute(\"SELECT count(name)  FROM sqlite_master WHERE type = 'table'AND name = 'Good_Raw_Data'\")"
   ]
  },
  {
   "cell_type": "code",
   "execution_count": 6,
   "id": "b796cbd3",
   "metadata": {},
   "outputs": [],
   "source": [
    "try:\n",
    "        #print(column_names)\n",
    "        #conn = dataBaseConnection(DatabaseName)\n",
    "        #c=conn.cursor()\n",
    "        c.execute(\"SELECT count(name)  FROM sqlite_master WHERE type = 'table'AND name = 'Good_Raw_Data'\")\n",
    "        if c.fetchone()[0] ==1:\n",
    "            #conn.close()\n",
    "            pass\n",
    "\n",
    "        else:\n",
    "            for key in column_names.keys():\n",
    "                type = column_names[key]\n",
    "\n",
    "                    #in try block we check if the table exists, if yes then add columns to the table\n",
    "                    # else in catch block we will create the table\n",
    "                try:\n",
    "                        #cur = cur.execute(\"SELECT name FROM {dbName} WHERE type='table' AND name='Good_Raw_Data'\".format(dbName=DatabaseName))\n",
    "                    conn.execute('ALTER TABLE Good_Raw_Data ADD COLUMN \"{column_name}\" {dataType}'.format(column_name=key,dataType=type))\n",
    "                except:\n",
    "                    conn.execute('CREATE TABLE  Good_Raw_Data ({column_name} {dataType})'.format(column_name=key, dataType=type))\n",
    "\n",
    "\n",
    "            #conn.close()\n",
    "\n",
    "\n",
    "except Exception as e:\n",
    "\n",
    "    print('entering exception')\n",
    "    conn.close()\n",
    "    #file = open(\"C:/Users/ADMIN/Desktop/Cars24 E2E/code/Training_Logs/DataBaseConnectionLog.txt\", 'a+')\n",
    "\n",
    "    raise e"
   ]
  },
  {
   "cell_type": "code",
   "execution_count": 7,
   "id": "a1af378c",
   "metadata": {},
   "outputs": [],
   "source": [
    "list_ = ['0,2015 Maruti Swift,Manual,1st Owner,Diesel,Maruti-Swift,46245,432499,2015,New_Delhi,7']"
   ]
  },
  {
   "cell_type": "code",
   "execution_count": 8,
   "id": "ab4e62b5",
   "metadata": {},
   "outputs": [
    {
     "ename": "OperationalError",
     "evalue": "no such column: '0,2015 Maruti Swift,Manual,1st Owner,Diesel,Maruti-Swift,46245,432499,2015,New_Delhi,7'",
     "output_type": "error",
     "traceback": [
      "\u001b[1;31m---------------------------------------------------------------------------\u001b[0m",
      "\u001b[1;31mOperationalError\u001b[0m                          Traceback (most recent call last)",
      "\u001b[1;32m~\\AppData\\Local\\Temp/ipykernel_12792/443358167.py\u001b[0m in \u001b[0;36m<module>\u001b[1;34m\u001b[0m\n\u001b[1;32m----> 1\u001b[1;33m \u001b[0mconn\u001b[0m\u001b[1;33m.\u001b[0m\u001b[0mexecute\u001b[0m\u001b[1;33m(\u001b[0m\u001b[1;34m'INSERT INTO Good_Raw_Data values ({values})'\u001b[0m\u001b[1;33m.\u001b[0m\u001b[0mformat\u001b[0m\u001b[1;33m(\u001b[0m\u001b[0mvalues\u001b[0m\u001b[1;33m=\u001b[0m\u001b[1;33m(\u001b[0m\u001b[0mlist_\u001b[0m\u001b[1;33m)\u001b[0m\u001b[1;33m)\u001b[0m\u001b[1;33m)\u001b[0m\u001b[1;33m\u001b[0m\u001b[1;33m\u001b[0m\u001b[0m\n\u001b[0m\u001b[0;32m      2\u001b[0m \u001b[1;31m#self.logger.log(log_file,\" %s: File loaded successfully!!\" % file)\u001b[0m\u001b[1;33m\u001b[0m\u001b[1;33m\u001b[0m\u001b[0m\n\u001b[0;32m      3\u001b[0m \u001b[0mconn\u001b[0m\u001b[1;33m.\u001b[0m\u001b[0mcommit\u001b[0m\u001b[1;33m(\u001b[0m\u001b[1;33m)\u001b[0m\u001b[1;33m\u001b[0m\u001b[1;33m\u001b[0m\u001b[0m\n",
      "\u001b[1;31mOperationalError\u001b[0m: no such column: '0,2015 Maruti Swift,Manual,1st Owner,Diesel,Maruti-Swift,46245,432499,2015,New_Delhi,7'"
     ]
    }
   ],
   "source": [
    "conn.execute('INSERT INTO Good_Raw_Data values ({values})'.format(values=(list_)))\n",
    "#self.logger.log(log_file,\" %s: File loaded successfully!!\" % file)\n",
    "conn.commit()"
   ]
  },
  {
   "cell_type": "code",
   "execution_count": 18,
   "id": "142648b6",
   "metadata": {},
   "outputs": [],
   "source": [
    "row = c.fetchone()"
   ]
  },
  {
   "cell_type": "code",
   "execution_count": 19,
   "id": "8e4617c0",
   "metadata": {},
   "outputs": [
    {
     "ename": "AttributeError",
     "evalue": "'NoneType' object has no attribute 'keys'",
     "output_type": "error",
     "traceback": [
      "\u001b[1;31m---------------------------------------------------------------------------\u001b[0m",
      "\u001b[1;31mAttributeError\u001b[0m                            Traceback (most recent call last)",
      "\u001b[1;32m~\\AppData\\Local\\Temp/ipykernel_12792/3733513598.py\u001b[0m in \u001b[0;36m<module>\u001b[1;34m\u001b[0m\n\u001b[1;32m----> 1\u001b[1;33m \u001b[0mnames\u001b[0m \u001b[1;33m=\u001b[0m \u001b[0mrow\u001b[0m\u001b[1;33m.\u001b[0m\u001b[0mkeys\u001b[0m\u001b[1;33m(\u001b[0m\u001b[1;33m)\u001b[0m\u001b[1;33m\u001b[0m\u001b[1;33m\u001b[0m\u001b[0m\n\u001b[0m",
      "\u001b[1;31mAttributeError\u001b[0m: 'NoneType' object has no attribute 'keys'"
     ]
    }
   ],
   "source": [
    "names = row.keys()"
   ]
  },
  {
   "cell_type": "code",
   "execution_count": 17,
   "id": "ae6e8b35",
   "metadata": {},
   "outputs": [
    {
     "data": {
      "text/plain": [
       "<sqlite3.Cursor at 0x1e8c9322ce0>"
      ]
     },
     "execution_count": 17,
     "metadata": {},
     "output_type": "execute_result"
    }
   ],
   "source": [
    "c.execute('''INSERT INTO Good_Raw_Data(Sl_No, Full_Info, Transmission_Type, Ownership, Fuel_Used,brand_name,km_driven,selling_price,Year_of_Manufacture,Place_of_Origin,Age) \n",
    "                       VALUES (0,'2015 Maruti Swift','Manual','1st Owner','Diesel','Maruti-Swift',46245,432499,2015,'New_Delhi',7)''')"
   ]
  },
  {
   "cell_type": "code",
   "execution_count": 21,
   "id": "d6c5754d",
   "metadata": {},
   "outputs": [],
   "source": [
    "conn.commit()"
   ]
  },
  {
   "cell_type": "code",
   "execution_count": 22,
   "id": "cc276881",
   "metadata": {},
   "outputs": [
    {
     "name": "stdout",
     "output_type": "stream",
     "text": [
      "\n",
      "Data in EMPLOYEE table:\n",
      "(0, '2015 Maruti Swift', 'Manual', '1st Owner', 'Diesel', 'Maruti-Swift', 46245, 432499, 2015, 'New_Delhi', 7)\n"
     ]
    }
   ],
   "source": [
    "print('\\nData in EMPLOYEE table:')\n",
    "data=c.execute('''SELECT * FROM Good_Raw_Data''')\n",
    "for row in data:\n",
    "    print(row)"
   ]
  },
  {
   "cell_type": "code",
   "execution_count": 2,
   "id": "cbc6021d",
   "metadata": {},
   "outputs": [],
   "source": [
    "import pandas as pd"
   ]
  },
  {
   "cell_type": "code",
   "execution_count": 12,
   "id": "993c080b",
   "metadata": {},
   "outputs": [],
   "source": [
    "csv = pd.read_csv(\"C:/Users/ADMIN/Desktop/Cars24 E2E/code/Training_Batch_Files/file5_semicleaned.csv\")"
   ]
  },
  {
   "cell_type": "code",
   "execution_count": 13,
   "id": "9944e67b",
   "metadata": {},
   "outputs": [
    {
     "data": {
      "text/plain": [
       "Sl_No                  int64\n",
       "Transmission_Type     object\n",
       "Ownership             object\n",
       "Fuel_Used             object\n",
       "km_driven              int64\n",
       "Ex_Showroom_Price    float64\n",
       "On_road_Price        float64\n",
       "selling_price          int64\n",
       "Place_of_Origin       object\n",
       "Complete_Info         object\n",
       "Age                    int64\n",
       "MRP                  float64\n",
       "dtype: object"
      ]
     },
     "execution_count": 13,
     "metadata": {},
     "output_type": "execute_result"
    }
   ],
   "source": [
    "csv.dtypes"
   ]
  },
  {
   "cell_type": "code",
   "execution_count": 14,
   "id": "5a23bb56",
   "metadata": {},
   "outputs": [],
   "source": [
    "csv2 = pd.read_csv(\"C:/Users/ADMIN/Desktop/Cars24 E2E/Datasets Repo/file9_semicleaned.csv\")"
   ]
  },
  {
   "cell_type": "code",
   "execution_count": 15,
   "id": "e5a36502",
   "metadata": {},
   "outputs": [
    {
     "data": {
      "text/plain": [
       "Sl_No                  int64\n",
       "Full_Info             object\n",
       "Transimission_Type    object\n",
       "Ownership             object\n",
       "Fuel_Used             object\n",
       "brand_name            object\n",
       "km_driven              int64\n",
       "selling_price          int64\n",
       "Year_of_Manuacture     int64\n",
       "Place_of_Origin       object\n",
       "Age                    int64\n",
       "dtype: object"
      ]
     },
     "execution_count": 15,
     "metadata": {},
     "output_type": "execute_result"
    }
   ],
   "source": [
    "csv2.dtypes"
   ]
  },
  {
   "cell_type": "code",
   "execution_count": null,
   "id": "2874552f",
   "metadata": {},
   "outputs": [],
   "source": [
    "conn = sqlite3.connect('C:/Users/ADMIN/Desktop/Cars24 E2E/code/Training_Database'+'Training2'+'.db')\n",
    "c=conn.cursor()"
   ]
  }
 ],
 "metadata": {
  "kernelspec": {
   "display_name": "Python 3 (ipykernel)",
   "language": "python",
   "name": "python3"
  },
  "language_info": {
   "codemirror_mode": {
    "name": "ipython",
    "version": 3
   },
   "file_extension": ".py",
   "mimetype": "text/x-python",
   "name": "python",
   "nbconvert_exporter": "python",
   "pygments_lexer": "ipython3",
   "version": "3.9.7"
  }
 },
 "nbformat": 4,
 "nbformat_minor": 5
}
