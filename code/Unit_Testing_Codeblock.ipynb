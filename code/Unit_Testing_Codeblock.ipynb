{
 "cells": [
  {
   "cell_type": "code",
   "execution_count": 3,
   "id": "168f8751",
   "metadata": {},
   "outputs": [],
   "source": [
    "import regex as re\n",
    "import json\n",
    "from os import listdir\n",
    "import pandas as pd"
   ]
  },
  {
   "cell_type": "code",
   "execution_count": 84,
   "id": "fda85dc7",
   "metadata": {},
   "outputs": [],
   "source": [
    "def manualRegexCreation():\n",
    "    regex = \"['file']+['\\d']+[\\_]+['semicleaned']+\\.csv\"\n",
    "    return regex"
   ]
  },
  {
   "cell_type": "code",
   "execution_count": 16,
   "id": "2f841178",
   "metadata": {},
   "outputs": [],
   "source": [
    "def valuesFromSchema():\n",
    "    try:\n",
    "        with open('C:/Users/ADMIN/Desktop/Cars24 E2E/code/schema_training.json', 'r') as f:\n",
    "            dic = json.load(f)\n",
    "            f.close()\n",
    "        pattern = dic['SampleFileName']\n",
    "        lengthOfFile_Part1 = dic['lengthOfFile_Part1']\n",
    "        lengthOfFile_Part2 = dic['lengthOfFile_Part2']\n",
    "\n",
    "    except ValueError:\n",
    "        raise ValueError\n",
    "        \n",
    "    except KeyError:\n",
    "        raise KeyError\n",
    "\n",
    "    except Exception as e:\n",
    "        raise e\n",
    "        \n",
    "    message =\"pattern:: %s\" %pattern + \"\\t \" + \"lengthOfFile_Part1:: %s\" % lengthOfFile_Part1 + \"\\t\" +\"lengthOfFile_Part2:: %s\" % lengthOfFile_Part2+ \"\\n\"\n",
    "            \n",
    "    print(message)\n",
    "    return pattern, lengthOfFile_Part1, lengthOfFile_Part2"
   ]
  },
  {
   "cell_type": "code",
   "execution_count": 17,
   "id": "3281664e",
   "metadata": {},
   "outputs": [
    {
     "name": "stdout",
     "output_type": "stream",
     "text": [
      "pattern:: file9_semicleaned.csv\t lengthOfFile_Part1:: 5\tlengthOfFile_Part2:: 11\n",
      "\n"
     ]
    }
   ],
   "source": [
    "pattern, lengthOfFile_Part1, lengthOfFile_Part2 = valuesFromSchema()"
   ]
  },
  {
   "cell_type": "code",
   "execution_count": 93,
   "id": "a71e1564",
   "metadata": {},
   "outputs": [
    {
     "data": {
      "text/plain": [
       "11"
      ]
     },
     "execution_count": 93,
     "metadata": {},
     "output_type": "execute_result"
    }
   ],
   "source": [
    "lengthOfFile_Part2"
   ]
  },
  {
   "cell_type": "code",
   "execution_count": 94,
   "id": "01739d2c",
   "metadata": {},
   "outputs": [],
   "source": [
    "def validationFileNameRaw(regex,lengthOfFile_Part1, lengthOfFile_Part2):\n",
    "    onlyfiles = [f for f in listdir('C:/Users/ADMIN/Desktop/Cars24 E2E/code/Training_Batch_Files')]\n",
    "    try:\n",
    "        #f = open(\"Training_Logs/nameValidationLog.txt\", 'a+')\n",
    "        for filename in onlyfiles:\n",
    "            if (re.match(regex, filename)):\n",
    "                splitAtDot = re.split('.csv', filename)\n",
    "                splitAtDot = (re.split('_', splitAtDot[0]))\n",
    "                print(splitAtDot)\n",
    "                if len(splitAtDot[0]) >= lengthOfFile_Part1:\n",
    "                    if len(splitAtDot[1]) == lengthOfFile_Part2:\n",
    "                        print('this is a good file')\n",
    "                    else:\n",
    "                        print('bad file')\n",
    "                else:\n",
    "                    print('bad file')\n",
    "            else:\n",
    "                print('bad file')\n",
    "\n",
    "            #f.close()\n",
    "\n",
    "    except Exception as e:\n",
    "            f = open(\"Training_Logs/nameValidationLog.txt\", 'a+')\n",
    "            self.logger.log(f, \"Error occured while validating FileName %s\" % e)\n",
    "            f.close()\n",
    "            raise e"
   ]
  },
  {
   "cell_type": "code",
   "execution_count": 13,
   "id": "e5913ff2",
   "metadata": {},
   "outputs": [],
   "source": [
    "from os import listdir"
   ]
  },
  {
   "cell_type": "code",
   "execution_count": 16,
   "id": "e5a98544",
   "metadata": {},
   "outputs": [],
   "source": [
    "onlyfiles = [f for f in listdir('C:/Users/ADMIN/Desktop/Cars24 E2E/code/Training_Batch_Files')]\n",
    "onlyfiles"
   ]
  },
  {
   "cell_type": "code",
   "execution_count": 95,
   "id": "eb528b59",
   "metadata": {},
   "outputs": [],
   "source": [
    "regex = manualRegexCreation()"
   ]
  },
  {
   "cell_type": "code",
   "execution_count": 96,
   "id": "5bdd908e",
   "metadata": {},
   "outputs": [
    {
     "name": "stdout",
     "output_type": "stream",
     "text": [
      "['file']+['\\d']+[\\_]+['semicleaned']+\\.csv\n"
     ]
    }
   ],
   "source": [
    "print(regex)"
   ]
  },
  {
   "cell_type": "code",
   "execution_count": 97,
   "id": "0f3ecc2f",
   "metadata": {},
   "outputs": [
    {
     "name": "stdout",
     "output_type": "stream",
     "text": [
      "['file1', 'semicleaned']\n",
      "this is a good file\n",
      "['file2', 'semicleaned']\n",
      "this is a good file\n"
     ]
    }
   ],
   "source": [
    "validationFileNameRaw(regex,lengthOfFile_Part1, lengthOfFile_Part2)"
   ]
  },
  {
   "cell_type": "code",
   "execution_count": 29,
   "id": "5d0899d7",
   "metadata": {},
   "outputs": [],
   "source": [
    "'''\n",
    "with open('C:/Users/ADMIN/Desktop/Cars24 E2E/code/schema_training.json', 'r') as f:\n",
    "    dic = json.load(f)\n",
    "    #f.close()\n",
    "'''"
   ]
  },
  {
   "cell_type": "code",
   "execution_count": 83,
   "id": "13cfb4ba",
   "metadata": {},
   "outputs": [
    {
     "data": {
      "text/plain": [
       "<regex.Match object; span=(0, 21), match='file1_semicleaned.csv'>"
      ]
     },
     "execution_count": 83,
     "metadata": {},
     "output_type": "execute_result"
    }
   ],
   "source": [
    "re.match(regex, 'file1_semicleaned.csv')"
   ]
  },
  {
   "cell_type": "code",
   "execution_count": null,
   "id": "0c703929",
   "metadata": {},
   "outputs": [],
   "source": [
    "    def validateMissingValuesInWholeColumn():\n",
    "        try:\n",
    "            f = open(\"Training_Logs/missingValuesInColumn.txt\", 'a+')\n",
    "            self.logger.log(f,\"Missing Values Validation Started!!\")\n",
    "            for file in listdir('C:/Users/ADMIN/Desktop/Cars24 E2E/code/Training_Batch_Files'):\n",
    "                csv = pd.read_csv(\"Training_Raw_files_validated/Good_Raw/\" + file)\n",
    "                count = 0\n",
    "                for columns in csv:\n",
    "                    if (len(csv[columns]) - csv[columns].count()) == len(csv[columns]):\n",
    "                        count+=1\n",
    "                        shutil.move(\"Training_Raw_files_validated/Good_Raw/\" + file,\n",
    "                                    \"Training_Raw_files_validated/Bad_Raw\")\n",
    "                        self.logger.log(f,\"Invalid Column Length for the file!! File moved to Bad Raw Folder :: %s\" % file)\n",
    "                        break\n",
    "                    if count==0:\n",
    "                        csv.rename(columns={\"Unnamed: 0\": \"Wafer\"}, inplace=True)\n",
    "                        csv.to_csv(\"Training_Raw_files_validated/Good_Raw/\" + file, index=None, header=True)\n",
    "        except OSError:\n",
    "            f = open(\"Training_Logs/missingValuesInColumn.txt\", 'a+')\n",
    "            self.logger.log(f, \"Error Occured while moving the file :: %s\" % OSError)\n",
    "            f.close()\n",
    "            raise OSError\n",
    "        except Exception as e:\n",
    "            f = open(\"Training_Logs/missingValuesInColumn.txt\", 'a+')\n",
    "            self.logger.log(f, \"Error Occured:: %s\" % e)\n",
    "            f.close()\n",
    "            raise e\n",
    "        f.close()"
   ]
  },
  {
   "cell_type": "code",
   "execution_count": 3,
   "id": "27e9be21",
   "metadata": {},
   "outputs": [],
   "source": [
    "csv = pd.read_csv(\"C:/Users/ADMIN/Desktop/Cars24 E2E/code/Training_Batch_Files/file1_semicleaned.csv\")"
   ]
  },
  {
   "cell_type": "code",
   "execution_count": 10,
   "id": "470556bc",
   "metadata": {},
   "outputs": [
    {
     "name": "stdout",
     "output_type": "stream",
     "text": [
      "4768\n",
      "4768\n",
      "4721\n",
      "4768\n",
      "4768\n",
      "4768\n",
      "4768\n",
      "4768\n",
      "4768\n",
      "4768\n",
      "4768\n"
     ]
    }
   ],
   "source": [
    "for columns in csv:\n",
    "    #print(len(csv[columns]))\n",
    "    print(csv[columns].count())\n",
    "    "
   ]
  },
  {
   "cell_type": "code",
   "execution_count": 21,
   "id": "e89cfc24",
   "metadata": {},
   "outputs": [
    {
     "ename": "OperationalError",
     "evalue": "table employees has 1 columns but 3 values were supplied",
     "output_type": "error",
     "traceback": [
      "\u001b[1;31m---------------------------------------------------------------------------\u001b[0m",
      "\u001b[1;31mOperationalError\u001b[0m                          Traceback (most recent call last)",
      "\u001b[1;32m~\\AppData\\Local\\Temp/ipykernel_5964/2133946829.py\u001b[0m in \u001b[0;36m<module>\u001b[1;34m\u001b[0m\n\u001b[0;32m     14\u001b[0m \u001b[1;33m\u001b[0m\u001b[0m\n\u001b[0;32m     15\u001b[0m \u001b[1;33m\u001b[0m\u001b[0m\n\u001b[1;32m---> 16\u001b[1;33m \u001b[0mc\u001b[0m\u001b[1;33m.\u001b[0m\u001b[0mexecute\u001b[0m\u001b[1;33m(\u001b[0m\u001b[1;34m\"INSERT INTO employees VALUES ('Corey', 'Schafer',500000)\"\u001b[0m\u001b[1;33m)\u001b[0m\u001b[1;33m\u001b[0m\u001b[1;33m\u001b[0m\u001b[0m\n\u001b[0m\u001b[0;32m     17\u001b[0m \u001b[1;33m\u001b[0m\u001b[0m\n\u001b[0;32m     18\u001b[0m \u001b[0mconn\u001b[0m\u001b[1;33m.\u001b[0m\u001b[0mcommit\u001b[0m\u001b[1;33m(\u001b[0m\u001b[1;33m)\u001b[0m\u001b[1;33m\u001b[0m\u001b[1;33m\u001b[0m\u001b[0m\n",
      "\u001b[1;31mOperationalError\u001b[0m: table employees has 1 columns but 3 values were supplied"
     ]
    }
   ],
   "source": [
    "    import sqlite3\n",
    "\n",
    "    conn = sqlite3.connect('employee.db')\n",
    "\n",
    "    c = conn.cursor()\n",
    "\n",
    "\n",
    "\n",
    "    # c.execute(\"\"\"CREATE TABLE employees(\n",
    "    # first text,\n",
    "    # last text,\n",
    "    # pay integer)\"\"\")\n",
    "\n",
    "\n",
    "\n",
    "    c.execute(\"INSERT INTO employees VALUES ('Corey', 'Schafer',500000)\")\n",
    "\n",
    "    conn.commit()\n",
    "    conn.close()"
   ]
  },
  {
   "cell_type": "code",
   "execution_count": 8,
   "id": "f546dc05",
   "metadata": {},
   "outputs": [],
   "source": [
    "column_names = {'Sl_No': ' integer', 'Full_Info': ' varchar', 'Transmission_Type': ' char', 'Ownership': ' varchar', 'Fuel_Used': ' char', 'brand_name': ' varchar', 'km_driven': ' integer', 'selling_price': ' integer', 'Year_of_Manufacture': ' integer', 'Place_of_Origin': ' varchar', 'Age': ' integer'}"
   ]
  },
  {
   "cell_type": "code",
   "execution_count": 17,
   "id": "d49074a1",
   "metadata": {},
   "outputs": [],
   "source": [
    "import shutil\n",
    "import sqlite3\n",
    "from datetime import datetime\n",
    "from os import listdir\n",
    "import os\n",
    "import csv"
   ]
  },
  {
   "cell_type": "code",
   "execution_count": 18,
   "id": "1a82eb91",
   "metadata": {},
   "outputs": [],
   "source": [
    "def log(file_object, log_message):\n",
    "    now = datetime.now()\n",
    "    date = now.date()\n",
    "    current_time = now.strftime(\"%H:%M:%S\")\n",
    "    file_object.write(str(date) + \"/\" + str(current_time) + \"\\t\\t\" + log_message +\"\\n\")"
   ]
  },
  {
   "cell_type": "code",
   "execution_count": 19,
   "id": "3323fa1f",
   "metadata": {},
   "outputs": [],
   "source": [
    "def dataBaseConnection(DatabaseName):\n",
    "    try:\n",
    "        conn = sqlite3.connect('C:/Users/ADMIN/Desktop/Cars24 E2E/code/Training_Database'+DatabaseName+'.db')\n",
    "        file = open(\"C:/Users/ADMIN/Desktop/Cars24 E2E/code/Training_Logs/DataBaseConnectionLog.txt\", 'a+')\n",
    "        log(file, \"Opened %s database successfully\" % DatabaseName)\n",
    "        file.close()\n",
    "    except ConnectionError:\n",
    "        file = open(\"C:/Users/ADMIN/Desktop/Cars24 E2E/code/Training_Logs/DataBaseConnectionLog.txt\", 'a+')\n",
    "        log(file, \"Error while connecting to database: %s\" %ConnectionError)\n",
    "        file.close()\n",
    "        raise ConnectionError\n",
    "    return conn"
   ]
  },
  {
   "cell_type": "code",
   "execution_count": 20,
   "id": "019400b5",
   "metadata": {},
   "outputs": [],
   "source": [
    "def createTableDb(DatabaseName,column_names):\n",
    "    try:\n",
    "        #print(column_names)\n",
    "        conn = dataBaseConnection(DatabaseName)\n",
    "        c=conn.cursor()\n",
    "        c.execute(\"SELECT count(name)  FROM sqlite_master WHERE type = 'table'AND name = 'Good_Raw_Data'\")\n",
    "        if c.fetchone()[0] ==1:\n",
    "            conn.close()\n",
    "            file = open(\"C:/Users/ADMIN/Desktop/Cars24 E2E/code/Training_Logs/DbTableCreateLog.txt\", 'a+')\n",
    "            log(file, \"Tables created successfully!!\")\n",
    "            file.close()\n",
    "\n",
    "            file = open(\"C:/Users/ADMIN/Desktop/Cars24 E2E/code/Training_Logs/DataBaseConnectionLog.txt\", 'a+')\n",
    "            log(file, \"Closed %s database successfully\" % DatabaseName)\n",
    "            file.close()\n",
    "            \n",
    "        else:\n",
    "            for key in column_names.keys():\n",
    "                type = column_names[key]\n",
    "\n",
    "                    #in try block we check if the table exists, if yes then add columns to the table\n",
    "                    # else in catch block we will create the table\n",
    "                try:\n",
    "                        #cur = cur.execute(\"SELECT name FROM {dbName} WHERE type='table' AND name='Good_Raw_Data'\".format(dbName=DatabaseName))\n",
    "                    conn.execute('ALTER TABLE Good_Raw_Data ADD COLUMN \"{column_name}\" {dataType}'.format(column_name=key,dataType=type))\n",
    "                except:\n",
    "                    conn.execute('CREATE TABLE  Good_Raw_Data ({column_name} {dataType})'.format(column_name=key, dataType=type))\n",
    "\n",
    "\n",
    "            conn.close()\n",
    "\n",
    "            file = open(\"C:/Users/ADMIN/Desktop/Cars24 E2E/code/Training_Logs/DbTableCreateLog.txt\", 'a+')\n",
    "            log(file, \"Tables created successfully!!\")\n",
    "            file.close()\n",
    "\n",
    "            file = open(\"C:/Users/ADMIN/Desktop/Cars24 E2E/code/Training_Logs/DataBaseConnectionLog.txt\", 'a+')\n",
    "            log(file, \"Closed %s database successfully\" % DatabaseName)\n",
    "            file.close()\n",
    "\n",
    "    except Exception as e:\n",
    "        file = open(\"C:/Users/ADMIN/Desktop/Cars24 E2E/code/Training_Logs/DbTableCreateLog.txt\", 'a+')\n",
    "        log(file, \"Error while creating table: %s \" % e)\n",
    "        file.close()\n",
    "        conn.close()\n",
    "        file = open(\"C:/Users/ADMIN/Desktop/Cars24 E2E/code/Training_Logs/DataBaseConnectionLog.txt\", 'a+')\n",
    "        log(file, \"Closed %s database successfully\" % DatabaseName)\n",
    "        file.close()\n",
    "        raise e\n"
   ]
  },
  {
   "cell_type": "code",
   "execution_count": 21,
   "id": "90d7ebdd",
   "metadata": {},
   "outputs": [],
   "source": [
    "def insertIntoTableGoodData(Database):\n",
    "    conn = dataBaseConnection(Database)\n",
    "    goodFilePath= 'C:/Users/ADMIN/Desktop/Cars24 E2E/code/Training_Raw_files_validated/Good_Raw'\n",
    "    badFilePath = 'C:/Users/ADMIN/Desktop/Cars24 E2E/code/Training_Raw_files_validated/Good_RawTraining_Raw_files_validated/Bad_Raw'\n",
    "    onlyfiles = [f for f in listdir(goodFilePath)]\n",
    "    log_file = open(\"C:/Users/ADMIN/Desktop/Cars24 E2E/code/Training_Logs/DbInsertLog.txt\", 'a+')\n",
    "    for file in onlyfiles:\n",
    "        try:\n",
    "            with open(goodFilePath+'/'+file, \"r\") as f:\n",
    "                next(f)\n",
    "                reader = csv.reader(f, delimiter=\"\\n\")\n",
    "                for line in enumerate(reader):\n",
    "                    for list_ in (line[1]):\n",
    "                        try:\n",
    "                            conn.execute('INSERT INTO Good_Raw_Data values ({values})'.format(values=(list_)))\n",
    "                            log(log_file,\" %s: File loaded successfully!!\" % file)\n",
    "                            conn.commit()\n",
    "                        except Exception as e:\n",
    "                            raise e\n",
    "\n",
    "        except Exception as e:\n",
    "            conn.rollback()\n",
    "            log(log_file,\"Error while creating table: %s \" % e)\n",
    "            shutil.move(goodFilePath+'/' + file, badFilePath)\n",
    "            log(log_file, \"File Moved Successfully %s\" % file)\n",
    "            log_file.close()\n",
    "            conn.close()\n",
    "\n",
    "    conn.close()\n",
    "    log_file.close()"
   ]
  },
  {
   "cell_type": "code",
   "execution_count": 23,
   "id": "2210bc96",
   "metadata": {},
   "outputs": [],
   "source": [
    "createTableDb('Training', column_names)"
   ]
  },
  {
   "cell_type": "code",
   "execution_count": 14,
   "id": "ff327161",
   "metadata": {},
   "outputs": [],
   "source": [
    "with open('C:/Users/ADMIN/Desktop/Cars24 E2E/code/schema_training.json', 'r') as f:\n",
    "    dic = json.load(f)"
   ]
  },
  {
   "cell_type": "code",
   "execution_count": 15,
   "id": "d7b5772d",
   "metadata": {},
   "outputs": [],
   "source": [
    "f.close()"
   ]
  },
  {
   "cell_type": "code",
   "execution_count": null,
   "id": "0c2f6f3b",
   "metadata": {},
   "outputs": [],
   "source": []
  }
 ],
 "metadata": {
  "kernelspec": {
   "display_name": "Python 3 (ipykernel)",
   "language": "python",
   "name": "python3"
  },
  "language_info": {
   "codemirror_mode": {
    "name": "ipython",
    "version": 3
   },
   "file_extension": ".py",
   "mimetype": "text/x-python",
   "name": "python",
   "nbconvert_exporter": "python",
   "pygments_lexer": "ipython3",
   "version": "3.9.7"
  }
 },
 "nbformat": 4,
 "nbformat_minor": 5
}
