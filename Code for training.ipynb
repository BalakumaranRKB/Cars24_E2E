{
 "cells": [
  {
   "cell_type": "code",
   "execution_count": 2,
   "id": "c9126dc1",
   "metadata": {},
   "outputs": [],
   "source": [
    "import pandas as pd\n",
    "import numpy as np"
   ]
  },
  {
   "cell_type": "code",
   "execution_count": 2,
   "id": "30aa297a",
   "metadata": {},
   "outputs": [],
   "source": [
    "df = pd.read_csv(r'C:\\Users\\ADMIN\\Desktop\\Cars24 E2E\\code\\Training_FileFromDB\\InputFile.csv')"
   ]
  },
  {
   "cell_type": "code",
   "execution_count": 3,
   "id": "14510e27",
   "metadata": {},
   "outputs": [
    {
     "data": {
      "text/html": [
       "<div>\n",
       "<style scoped>\n",
       "    .dataframe tbody tr th:only-of-type {\n",
       "        vertical-align: middle;\n",
       "    }\n",
       "\n",
       "    .dataframe tbody tr th {\n",
       "        vertical-align: top;\n",
       "    }\n",
       "\n",
       "    .dataframe thead th {\n",
       "        text-align: right;\n",
       "    }\n",
       "</style>\n",
       "<table border=\"1\" class=\"dataframe\">\n",
       "  <thead>\n",
       "    <tr style=\"text-align: right;\">\n",
       "      <th></th>\n",
       "      <th>Sl_No</th>\n",
       "      <th>Full_Info</th>\n",
       "      <th>Transmission_Type</th>\n",
       "      <th>Ownership</th>\n",
       "      <th>Fuel_Used</th>\n",
       "      <th>brand_name</th>\n",
       "      <th>km_driven</th>\n",
       "      <th>selling_price</th>\n",
       "      <th>Year_of_Manufacture</th>\n",
       "      <th>Place_of_Origin</th>\n",
       "      <th>Age</th>\n",
       "    </tr>\n",
       "  </thead>\n",
       "  <tbody>\n",
       "    <tr>\n",
       "      <th>0</th>\n",
       "      <td>0</td>\n",
       "      <td>\"2015 Maruti Swift\"</td>\n",
       "      <td>\"Manual\"</td>\n",
       "      <td>\"1st Owner\"</td>\n",
       "      <td>\"Diesel\"</td>\n",
       "      <td>\"Maruti-Swift\"</td>\n",
       "      <td>46245</td>\n",
       "      <td>432499</td>\n",
       "      <td>2015</td>\n",
       "      <td>\"New_Delhi\"</td>\n",
       "      <td>7</td>\n",
       "    </tr>\n",
       "    <tr>\n",
       "      <th>1</th>\n",
       "      <td>1</td>\n",
       "      <td>\"2012 Maruti Swift\"</td>\n",
       "      <td>\"Manual\"</td>\n",
       "      <td>\"1st Owner\"</td>\n",
       "      <td>\"Petrol\"</td>\n",
       "      <td>\"Maruti-Swift\"</td>\n",
       "      <td>95779</td>\n",
       "      <td>383499</td>\n",
       "      <td>2012</td>\n",
       "      <td>\"New_Delhi\"</td>\n",
       "      <td>10</td>\n",
       "    </tr>\n",
       "    <tr>\n",
       "      <th>2</th>\n",
       "      <td>2</td>\n",
       "      <td>\"2012 Maruti Swift\"</td>\n",
       "      <td>\"Manual\"</td>\n",
       "      <td>\"3rd Owner\"</td>\n",
       "      <td>\"Petrol\"</td>\n",
       "      <td>\"Maruti-Swift\"</td>\n",
       "      <td>12761</td>\n",
       "      <td>371599</td>\n",
       "      <td>2012</td>\n",
       "      <td>\"New_Delhi\"</td>\n",
       "      <td>10</td>\n",
       "    </tr>\n",
       "    <tr>\n",
       "      <th>3</th>\n",
       "      <td>3</td>\n",
       "      <td>\"2018 Maruti Alto 800\"</td>\n",
       "      <td>\"Manual\"</td>\n",
       "      <td>\"1st Owner\"</td>\n",
       "      <td>\"Petrol\"</td>\n",
       "      <td>\"Maruti-Alto\"</td>\n",
       "      <td>41575</td>\n",
       "      <td>323699</td>\n",
       "      <td>2018</td>\n",
       "      <td>\"New_Delhi\"</td>\n",
       "      <td>4</td>\n",
       "    </tr>\n",
       "    <tr>\n",
       "      <th>4</th>\n",
       "      <td>4</td>\n",
       "      <td>\"2015 Maruti Swift\"</td>\n",
       "      <td>\"Manual\"</td>\n",
       "      <td>\"1st Owner\"</td>\n",
       "      <td>\"Diesel\"</td>\n",
       "      <td>\"Maruti-Swift\"</td>\n",
       "      <td>89851</td>\n",
       "      <td>392899</td>\n",
       "      <td>2015</td>\n",
       "      <td>\"New_Delhi\"</td>\n",
       "      <td>7</td>\n",
       "    </tr>\n",
       "  </tbody>\n",
       "</table>\n",
       "</div>"
      ],
      "text/plain": [
       "   Sl_No               Full_Info Transmission_Type    Ownership Fuel_Used  \\\n",
       "0      0     \"2015 Maruti Swift\"          \"Manual\"  \"1st Owner\"  \"Diesel\"   \n",
       "1      1     \"2012 Maruti Swift\"          \"Manual\"  \"1st Owner\"  \"Petrol\"   \n",
       "2      2     \"2012 Maruti Swift\"          \"Manual\"  \"3rd Owner\"  \"Petrol\"   \n",
       "3      3  \"2018 Maruti Alto 800\"          \"Manual\"  \"1st Owner\"  \"Petrol\"   \n",
       "4      4     \"2015 Maruti Swift\"          \"Manual\"  \"1st Owner\"  \"Diesel\"   \n",
       "\n",
       "       brand_name  km_driven  selling_price  Year_of_Manufacture  \\\n",
       "0  \"Maruti-Swift\"      46245         432499                 2015   \n",
       "1  \"Maruti-Swift\"      95779         383499                 2012   \n",
       "2  \"Maruti-Swift\"      12761         371599                 2012   \n",
       "3   \"Maruti-Alto\"      41575         323699                 2018   \n",
       "4  \"Maruti-Swift\"      89851         392899                 2015   \n",
       "\n",
       "  Place_of_Origin  Age  \n",
       "0     \"New_Delhi\"    7  \n",
       "1     \"New_Delhi\"   10  \n",
       "2     \"New_Delhi\"   10  \n",
       "3     \"New_Delhi\"    4  \n",
       "4     \"New_Delhi\"    7  "
      ]
     },
     "execution_count": 3,
     "metadata": {},
     "output_type": "execute_result"
    }
   ],
   "source": [
    "df.head(5)"
   ]
  },
  {
   "cell_type": "code",
   "execution_count": 4,
   "id": "e9476a17",
   "metadata": {},
   "outputs": [],
   "source": [
    "final_df = df.copy()"
   ]
  },
  {
   "cell_type": "code",
   "execution_count": 5,
   "id": "dc5eb75a",
   "metadata": {},
   "outputs": [],
   "source": [
    "final_df.drop(final_df.columns[[0, 1, 5, 8, 9]], axis=1,inplace = True)"
   ]
  },
  {
   "cell_type": "code",
   "execution_count": 6,
   "id": "023e1e8c",
   "metadata": {},
   "outputs": [
    {
     "data": {
      "text/html": [
       "<div>\n",
       "<style scoped>\n",
       "    .dataframe tbody tr th:only-of-type {\n",
       "        vertical-align: middle;\n",
       "    }\n",
       "\n",
       "    .dataframe tbody tr th {\n",
       "        vertical-align: top;\n",
       "    }\n",
       "\n",
       "    .dataframe thead th {\n",
       "        text-align: right;\n",
       "    }\n",
       "</style>\n",
       "<table border=\"1\" class=\"dataframe\">\n",
       "  <thead>\n",
       "    <tr style=\"text-align: right;\">\n",
       "      <th></th>\n",
       "      <th>Transmission_Type</th>\n",
       "      <th>Ownership</th>\n",
       "      <th>Fuel_Used</th>\n",
       "      <th>km_driven</th>\n",
       "      <th>selling_price</th>\n",
       "      <th>Age</th>\n",
       "    </tr>\n",
       "  </thead>\n",
       "  <tbody>\n",
       "    <tr>\n",
       "      <th>0</th>\n",
       "      <td>\"Manual\"</td>\n",
       "      <td>\"1st Owner\"</td>\n",
       "      <td>\"Diesel\"</td>\n",
       "      <td>46245</td>\n",
       "      <td>432499</td>\n",
       "      <td>7</td>\n",
       "    </tr>\n",
       "    <tr>\n",
       "      <th>1</th>\n",
       "      <td>\"Manual\"</td>\n",
       "      <td>\"1st Owner\"</td>\n",
       "      <td>\"Petrol\"</td>\n",
       "      <td>95779</td>\n",
       "      <td>383499</td>\n",
       "      <td>10</td>\n",
       "    </tr>\n",
       "    <tr>\n",
       "      <th>2</th>\n",
       "      <td>\"Manual\"</td>\n",
       "      <td>\"3rd Owner\"</td>\n",
       "      <td>\"Petrol\"</td>\n",
       "      <td>12761</td>\n",
       "      <td>371599</td>\n",
       "      <td>10</td>\n",
       "    </tr>\n",
       "    <tr>\n",
       "      <th>3</th>\n",
       "      <td>\"Manual\"</td>\n",
       "      <td>\"1st Owner\"</td>\n",
       "      <td>\"Petrol\"</td>\n",
       "      <td>41575</td>\n",
       "      <td>323699</td>\n",
       "      <td>4</td>\n",
       "    </tr>\n",
       "    <tr>\n",
       "      <th>4</th>\n",
       "      <td>\"Manual\"</td>\n",
       "      <td>\"1st Owner\"</td>\n",
       "      <td>\"Diesel\"</td>\n",
       "      <td>89851</td>\n",
       "      <td>392899</td>\n",
       "      <td>7</td>\n",
       "    </tr>\n",
       "    <tr>\n",
       "      <th>...</th>\n",
       "      <td>...</td>\n",
       "      <td>...</td>\n",
       "      <td>...</td>\n",
       "      <td>...</td>\n",
       "      <td>...</td>\n",
       "      <td>...</td>\n",
       "    </tr>\n",
       "    <tr>\n",
       "      <th>4763</th>\n",
       "      <td>\"Manual\"</td>\n",
       "      <td>\"1st Owner\"</td>\n",
       "      <td>\"Petrol\"</td>\n",
       "      <td>30051</td>\n",
       "      <td>344999</td>\n",
       "      <td>3</td>\n",
       "    </tr>\n",
       "    <tr>\n",
       "      <th>4764</th>\n",
       "      <td>\"Manual\"</td>\n",
       "      <td>\"1st Owner\"</td>\n",
       "      <td>\"Petrol\"</td>\n",
       "      <td>31787</td>\n",
       "      <td>344999</td>\n",
       "      <td>3</td>\n",
       "    </tr>\n",
       "    <tr>\n",
       "      <th>4765</th>\n",
       "      <td>\"Manual\"</td>\n",
       "      <td>\"1st Owner\"</td>\n",
       "      <td>\"Petrol\"</td>\n",
       "      <td>12651</td>\n",
       "      <td>694799</td>\n",
       "      <td>3</td>\n",
       "    </tr>\n",
       "    <tr>\n",
       "      <th>4766</th>\n",
       "      <td>\"Manual\"</td>\n",
       "      <td>\"1st Owner\"</td>\n",
       "      <td>\"Petrol\"</td>\n",
       "      <td>42126</td>\n",
       "      <td>310299</td>\n",
       "      <td>4</td>\n",
       "    </tr>\n",
       "    <tr>\n",
       "      <th>4767</th>\n",
       "      <td>\"Manual\"</td>\n",
       "      <td>\"1st Owner\"</td>\n",
       "      <td>\"Petrol\"</td>\n",
       "      <td>27160</td>\n",
       "      <td>648799</td>\n",
       "      <td>3</td>\n",
       "    </tr>\n",
       "  </tbody>\n",
       "</table>\n",
       "<p>4768 rows × 6 columns</p>\n",
       "</div>"
      ],
      "text/plain": [
       "     Transmission_Type    Ownership Fuel_Used  km_driven  selling_price  Age\n",
       "0             \"Manual\"  \"1st Owner\"  \"Diesel\"      46245         432499    7\n",
       "1             \"Manual\"  \"1st Owner\"  \"Petrol\"      95779         383499   10\n",
       "2             \"Manual\"  \"3rd Owner\"  \"Petrol\"      12761         371599   10\n",
       "3             \"Manual\"  \"1st Owner\"  \"Petrol\"      41575         323699    4\n",
       "4             \"Manual\"  \"1st Owner\"  \"Diesel\"      89851         392899    7\n",
       "...                ...          ...       ...        ...            ...  ...\n",
       "4763          \"Manual\"  \"1st Owner\"  \"Petrol\"      30051         344999    3\n",
       "4764          \"Manual\"  \"1st Owner\"  \"Petrol\"      31787         344999    3\n",
       "4765          \"Manual\"  \"1st Owner\"  \"Petrol\"      12651         694799    3\n",
       "4766          \"Manual\"  \"1st Owner\"  \"Petrol\"      42126         310299    4\n",
       "4767          \"Manual\"  \"1st Owner\"  \"Petrol\"      27160         648799    3\n",
       "\n",
       "[4768 rows x 6 columns]"
      ]
     },
     "execution_count": 6,
     "metadata": {},
     "output_type": "execute_result"
    }
   ],
   "source": [
    "final_df"
   ]
  },
  {
   "cell_type": "code",
   "execution_count": 11,
   "id": "b9b72f33",
   "metadata": {},
   "outputs": [],
   "source": [
    "df3 = final_df[~final_df.Transmission_Type.str.contains('nan')].copy()"
   ]
  },
  {
   "cell_type": "code",
   "execution_count": 13,
   "id": "eda8e332",
   "metadata": {},
   "outputs": [
    {
     "data": {
      "text/plain": [
       "\"Manual\"       3956\n",
       "\"Automatic\"     765\n",
       "Name: Transmission_Type, dtype: int64"
      ]
     },
     "execution_count": 13,
     "metadata": {},
     "output_type": "execute_result"
    }
   ],
   "source": [
    "df3[\"Transmission_Type\"].value_counts()"
   ]
  },
  {
   "cell_type": "code",
   "execution_count": 18,
   "id": "fe7958cb",
   "metadata": {},
   "outputs": [],
   "source": [
    "def one_hot_encoding(df45):\n",
    "    df55 = df45.copy()\n",
    "    dfdummies = pd.get_dummies(data=df55,columns=['Transmission_Type','Ownership','Fuel_Used'],drop_first=True)\n",
    "    return dfdummies"
   ]
  },
  {
   "cell_type": "code",
   "execution_count": 19,
   "id": "1c601cc3",
   "metadata": {},
   "outputs": [],
   "source": [
    "new_df = one_hot_encoding(df3)"
   ]
  },
  {
   "cell_type": "code",
   "execution_count": 20,
   "id": "319f84fe",
   "metadata": {},
   "outputs": [
    {
     "data": {
      "text/html": [
       "<div>\n",
       "<style scoped>\n",
       "    .dataframe tbody tr th:only-of-type {\n",
       "        vertical-align: middle;\n",
       "    }\n",
       "\n",
       "    .dataframe tbody tr th {\n",
       "        vertical-align: top;\n",
       "    }\n",
       "\n",
       "    .dataframe thead th {\n",
       "        text-align: right;\n",
       "    }\n",
       "</style>\n",
       "<table border=\"1\" class=\"dataframe\">\n",
       "  <thead>\n",
       "    <tr style=\"text-align: right;\">\n",
       "      <th></th>\n",
       "      <th>km_driven</th>\n",
       "      <th>selling_price</th>\n",
       "      <th>Age</th>\n",
       "      <th>Transmission_Type_\"Manual\"</th>\n",
       "      <th>Ownership_\"2nd Owner\"</th>\n",
       "      <th>Ownership_\"3rd Owner\"</th>\n",
       "      <th>Ownership_\"4th Owner\"</th>\n",
       "      <th>Fuel_Used_\"Petrol + CNG\"</th>\n",
       "      <th>Fuel_Used_\"Petrol + LPG\"</th>\n",
       "      <th>Fuel_Used_\"Petrol\"</th>\n",
       "    </tr>\n",
       "  </thead>\n",
       "  <tbody>\n",
       "    <tr>\n",
       "      <th>0</th>\n",
       "      <td>46245</td>\n",
       "      <td>432499</td>\n",
       "      <td>7</td>\n",
       "      <td>1</td>\n",
       "      <td>0</td>\n",
       "      <td>0</td>\n",
       "      <td>0</td>\n",
       "      <td>0</td>\n",
       "      <td>0</td>\n",
       "      <td>0</td>\n",
       "    </tr>\n",
       "    <tr>\n",
       "      <th>1</th>\n",
       "      <td>95779</td>\n",
       "      <td>383499</td>\n",
       "      <td>10</td>\n",
       "      <td>1</td>\n",
       "      <td>0</td>\n",
       "      <td>0</td>\n",
       "      <td>0</td>\n",
       "      <td>0</td>\n",
       "      <td>0</td>\n",
       "      <td>1</td>\n",
       "    </tr>\n",
       "    <tr>\n",
       "      <th>2</th>\n",
       "      <td>12761</td>\n",
       "      <td>371599</td>\n",
       "      <td>10</td>\n",
       "      <td>1</td>\n",
       "      <td>0</td>\n",
       "      <td>1</td>\n",
       "      <td>0</td>\n",
       "      <td>0</td>\n",
       "      <td>0</td>\n",
       "      <td>1</td>\n",
       "    </tr>\n",
       "  </tbody>\n",
       "</table>\n",
       "</div>"
      ],
      "text/plain": [
       "   km_driven  selling_price  Age  Transmission_Type_\"Manual\"  \\\n",
       "0      46245         432499    7                           1   \n",
       "1      95779         383499   10                           1   \n",
       "2      12761         371599   10                           1   \n",
       "\n",
       "   Ownership_\"2nd Owner\"  Ownership_\"3rd Owner\"  Ownership_\"4th Owner\"  \\\n",
       "0                      0                      0                      0   \n",
       "1                      0                      0                      0   \n",
       "2                      0                      1                      0   \n",
       "\n",
       "   Fuel_Used_\"Petrol + CNG\"  Fuel_Used_\"Petrol + LPG\"  Fuel_Used_\"Petrol\"  \n",
       "0                         0                         0                   0  \n",
       "1                         0                         0                   1  \n",
       "2                         0                         0                   1  "
      ]
     },
     "execution_count": 20,
     "metadata": {},
     "output_type": "execute_result"
    }
   ],
   "source": [
    "new_df.head(3)"
   ]
  },
  {
   "cell_type": "code",
   "execution_count": 21,
   "id": "1ccc1df7",
   "metadata": {},
   "outputs": [],
   "source": [
    "X=new_df.iloc[:,[0,2,3,4,5,6,7,8,9]]\n",
    "y=new_df.iloc[:,1]"
   ]
  },
  {
   "cell_type": "code",
   "execution_count": 22,
   "id": "e4a90b18",
   "metadata": {},
   "outputs": [
    {
     "data": {
      "text/plain": [
       "ExtraTreesRegressor()"
      ]
     },
     "execution_count": 22,
     "metadata": {},
     "output_type": "execute_result"
    }
   ],
   "source": [
    "#### Feature Importance\n",
    "from sklearn.ensemble import ExtraTreesRegressor\n",
    "import matplotlib.pyplot as plt\n",
    "model = ExtraTreesRegressor()\n",
    "model.fit(X,y)"
   ]
  },
  {
   "cell_type": "code",
   "execution_count": 23,
   "id": "b3ed8ff0",
   "metadata": {},
   "outputs": [
    {
     "name": "stdout",
     "output_type": "stream",
     "text": [
      "[4.54212840e-01 2.39142660e-01 1.61536918e-01 1.23108197e-02\n",
      " 4.27030345e-03 1.38107200e-05 1.25251324e-02 9.12267651e-05\n",
      " 1.15896289e-01]\n"
     ]
    }
   ],
   "source": [
    "print(model.feature_importances_)"
   ]
  },
  {
   "cell_type": "code",
   "execution_count": 27,
   "id": "3e7fd144",
   "metadata": {},
   "outputs": [
    {
     "data": {
      "image/png": "[encoded data removed]",
      "text/plain": [
       "<Figure size 432x288 with 1 Axes>"
      ]
     },
     "metadata": {
      "needs_background": "light"
     },
     "output_type": "display_data"
    }
   ],
   "source": [
    "#plot graph of feature importances for better visualization\n",
    "feat_importances = pd.Series(model.feature_importances_, index=X.columns)\n",
    "feat_importances.nlargest(8).plot(kind='barh')\n",
    "plt.show()"
   ]
  },
  {
   "cell_type": "code",
   "execution_count": 26,
   "id": "653f4ba8",
   "metadata": {},
   "outputs": [
    {
     "data": {
      "text/html": [
       "<div>\n",
       "<style scoped>\n",
       "    .dataframe tbody tr th:only-of-type {\n",
       "        vertical-align: middle;\n",
       "    }\n",
       "\n",
       "    .dataframe tbody tr th {\n",
       "        vertical-align: top;\n",
       "    }\n",
       "\n",
       "    .dataframe thead th {\n",
       "        text-align: right;\n",
       "    }\n",
       "</style>\n",
       "<table border=\"1\" class=\"dataframe\">\n",
       "  <thead>\n",
       "    <tr style=\"text-align: right;\">\n",
       "      <th></th>\n",
       "      <th>km_driven</th>\n",
       "      <th>Age</th>\n",
       "      <th>Transmission_Type_\"Manual\"</th>\n",
       "      <th>Ownership_\"2nd Owner\"</th>\n",
       "      <th>Ownership_\"3rd Owner\"</th>\n",
       "      <th>Ownership_\"4th Owner\"</th>\n",
       "      <th>Fuel_Used_\"Petrol + CNG\"</th>\n",
       "      <th>Fuel_Used_\"Petrol + LPG\"</th>\n",
       "      <th>Fuel_Used_\"Petrol\"</th>\n",
       "    </tr>\n",
       "  </thead>\n",
       "  <tbody>\n",
       "    <tr>\n",
       "      <th>0</th>\n",
       "      <td>46245</td>\n",
       "      <td>7</td>\n",
       "      <td>1</td>\n",
       "      <td>0</td>\n",
       "      <td>0</td>\n",
       "      <td>0</td>\n",
       "      <td>0</td>\n",
       "      <td>0</td>\n",
       "      <td>0</td>\n",
       "    </tr>\n",
       "  </tbody>\n",
       "</table>\n",
       "</div>"
      ],
      "text/plain": [
       "   km_driven  Age  Transmission_Type_\"Manual\"  Ownership_\"2nd Owner\"  \\\n",
       "0      46245    7                           1                      0   \n",
       "\n",
       "   Ownership_\"3rd Owner\"  Ownership_\"4th Owner\"  Fuel_Used_\"Petrol + CNG\"  \\\n",
       "0                      0                      0                         0   \n",
       "\n",
       "   Fuel_Used_\"Petrol + LPG\"  Fuel_Used_\"Petrol\"  \n",
       "0                         0                   0  "
      ]
     },
     "execution_count": 26,
     "metadata": {},
     "output_type": "execute_result"
    }
   ],
   "source": [
    "X.head(1)"
   ]
  },
  {
   "cell_type": "code",
   "execution_count": 28,
   "id": "8d66395c",
   "metadata": {},
   "outputs": [],
   "source": [
    "from sklearn.model_selection import train_test_split\n",
    "X_train, X_test, y_train, y_test = train_test_split(X.iloc[:,[0,1,2,8]], y, test_size=0.2, random_state=0)"
   ]
  },
  {
   "cell_type": "code",
   "execution_count": 29,
   "id": "0811afc6",
   "metadata": {},
   "outputs": [],
   "source": [
    "from sklearn.ensemble import RandomForestRegressor"
   ]
  },
  {
   "cell_type": "code",
   "execution_count": 30,
   "id": "cf885564",
   "metadata": {},
   "outputs": [],
   "source": [
    "regressor=RandomForestRegressor()"
   ]
  },
  {
   "cell_type": "code",
   "execution_count": 31,
   "id": "bc748db9",
   "metadata": {},
   "outputs": [
    {
     "name": "stdout",
     "output_type": "stream",
     "text": [
      "[100, 200, 300, 400, 500, 600, 700, 800, 900, 1000, 1100, 1200]\n"
     ]
    }
   ],
   "source": [
    "n_estimators = [int(x) for x in np.linspace(start = 100, stop = 1200, num = 12)]\n",
    "print(n_estimators)"
   ]
  },
  {
   "cell_type": "code",
   "execution_count": 53,
   "id": "474ac4ac",
   "metadata": {},
   "outputs": [],
   "source": [
    "from sklearn.model_selection import RandomizedSearchCV"
   ]
  },
  {
   "cell_type": "code",
   "execution_count": 54,
   "id": "e046d0d2",
   "metadata": {},
   "outputs": [],
   "source": [
    " #Randomized Search CV\n",
    "\n",
    "# Number of trees in random forest\n",
    "n_estimators = [int(x) for x in np.linspace(start = 1, stop = 10000, num = 12)]\n",
    "# Number of features to consider at every split\n",
    "max_features = ['auto', 'sqrt']\n",
    "# Maximum number of levels in tree\n",
    "max_depth = [int(x) for x in np.linspace(5, 30, num = 6)]\n",
    "# max_depth.append(None)\n",
    "# Minimum number of samples required to split a node\n",
    "min_samples_split = [2, 5, 10, 15, 100]\n",
    "# Minimum number of samples required at each leaf node\n",
    "min_samples_leaf = [1, 2, 5, 10]"
   ]
  },
  {
   "cell_type": "code",
   "execution_count": 55,
   "id": "7b32b8cf",
   "metadata": {},
   "outputs": [
    {
     "name": "stdout",
     "output_type": "stream",
     "text": [
      "{'n_estimators': [1, 910, 1819, 2728, 3637, 4546, 5455, 6364, 7273, 8182, 9091, 10000], 'max_features': ['auto', 'sqrt'], 'max_depth': [5, 10, 15, 20, 25, 30], 'min_samples_split': [2, 5, 10, 15, 100], 'min_samples_leaf': [1, 2, 5, 10]}\n"
     ]
    }
   ],
   "source": [
    "# Create the random grid\n",
    "random_grid = {'n_estimators': n_estimators,\n",
    "               'max_features': max_features,\n",
    "               'max_depth': max_depth,\n",
    "               'min_samples_split': min_samples_split,\n",
    "               'min_samples_leaf': min_samples_leaf}\n",
    "\n",
    "print(random_grid)"
   ]
  },
  {
   "cell_type": "code",
   "execution_count": 56,
   "id": "ebbffe12",
   "metadata": {},
   "outputs": [],
   "source": [
    "# Use the random grid to search for best hyperparameters\n",
    "# First create the base model to tune\n",
    "rf = RandomForestRegressor()"
   ]
  },
  {
   "cell_type": "code",
   "execution_count": 57,
   "id": "16429e25",
   "metadata": {},
   "outputs": [],
   "source": [
    "rf_random = RandomizedSearchCV(estimator = rf, param_distributions = random_grid,scoring='neg_mean_squared_error', n_iter = 10, cv = 5, verbose=2, random_state=42, n_jobs = 1)"
   ]
  },
  {
   "cell_type": "code",
   "execution_count": 58,
   "id": "060b88dc",
   "metadata": {},
   "outputs": [
    {
     "name": "stdout",
     "output_type": "stream",
     "text": [
      "Fitting 5 folds for each of 10 candidates, totalling 50 fits\n",
      "[CV] END max_depth=10, max_features=sqrt, min_samples_leaf=5, min_samples_split=5, n_estimators=7273; total time=  17.8s\n",
      "[CV] END max_depth=10, max_features=sqrt, min_samples_leaf=5, min_samples_split=5, n_estimators=7273; total time=  17.4s\n",
      "[CV] END max_depth=10, max_features=sqrt, min_samples_leaf=5, min_samples_split=5, n_estimators=7273; total time=  30.3s\n",
      "[CV] END max_depth=10, max_features=sqrt, min_samples_leaf=5, min_samples_split=5, n_estimators=7273; total time=  31.7s\n",
      "[CV] END max_depth=10, max_features=sqrt, min_samples_leaf=5, min_samples_split=5, n_estimators=7273; total time=  30.0s\n",
      "[CV] END max_depth=15, max_features=sqrt, min_samples_leaf=2, min_samples_split=10, n_estimators=9091; total time=  40.8s\n",
      "[CV] END max_depth=15, max_features=sqrt, min_samples_leaf=2, min_samples_split=10, n_estimators=9091; total time=  27.3s\n",
      "[CV] END max_depth=15, max_features=sqrt, min_samples_leaf=2, min_samples_split=10, n_estimators=9091; total time=  25.2s\n",
      "[CV] END max_depth=15, max_features=sqrt, min_samples_leaf=2, min_samples_split=10, n_estimators=9091; total time=  25.5s\n",
      "[CV] END max_depth=15, max_features=sqrt, min_samples_leaf=2, min_samples_split=10, n_estimators=9091; total time=  25.0s\n",
      "[CV] END max_depth=15, max_features=auto, min_samples_leaf=5, min_samples_split=100, n_estimators=1819; total time=   4.7s\n",
      "[CV] END max_depth=15, max_features=auto, min_samples_leaf=5, min_samples_split=100, n_estimators=1819; total time=   4.7s\n",
      "[CV] END max_depth=15, max_features=auto, min_samples_leaf=5, min_samples_split=100, n_estimators=1819; total time=   4.7s\n",
      "[CV] END max_depth=15, max_features=auto, min_samples_leaf=5, min_samples_split=100, n_estimators=1819; total time=   4.7s\n",
      "[CV] END max_depth=15, max_features=auto, min_samples_leaf=5, min_samples_split=100, n_estimators=1819; total time=   4.7s\n",
      "[CV] END max_depth=15, max_features=auto, min_samples_leaf=5, min_samples_split=5, n_estimators=2728; total time=   9.0s\n",
      "[CV] END max_depth=15, max_features=auto, min_samples_leaf=5, min_samples_split=5, n_estimators=2728; total time=   9.1s\n",
      "[CV] END max_depth=15, max_features=auto, min_samples_leaf=5, min_samples_split=5, n_estimators=2728; total time=   9.2s\n",
      "[CV] END max_depth=15, max_features=auto, min_samples_leaf=5, min_samples_split=5, n_estimators=2728; total time=   9.0s\n",
      "[CV] END max_depth=15, max_features=auto, min_samples_leaf=5, min_samples_split=5, n_estimators=2728; total time=   9.4s\n",
      "[CV] END max_depth=20, max_features=auto, min_samples_leaf=10, min_samples_split=5, n_estimators=5455; total time=  16.5s\n",
      "[CV] END max_depth=20, max_features=auto, min_samples_leaf=10, min_samples_split=5, n_estimators=5455; total time=  17.3s\n",
      "[CV] END max_depth=20, max_features=auto, min_samples_leaf=10, min_samples_split=5, n_estimators=5455; total time=  19.8s\n",
      "[CV] END max_depth=20, max_features=auto, min_samples_leaf=10, min_samples_split=5, n_estimators=5455; total time=  17.8s\n",
      "[CV] END max_depth=20, max_features=auto, min_samples_leaf=10, min_samples_split=5, n_estimators=5455; total time=  19.9s\n",
      "[CV] END max_depth=25, max_features=sqrt, min_samples_leaf=1, min_samples_split=2, n_estimators=8182; total time=  38.7s\n",
      "[CV] END max_depth=25, max_features=sqrt, min_samples_leaf=1, min_samples_split=2, n_estimators=8182; total time=  36.1s\n",
      "[CV] END max_depth=25, max_features=sqrt, min_samples_leaf=1, min_samples_split=2, n_estimators=8182; total time=  35.1s\n",
      "[CV] END max_depth=25, max_features=sqrt, min_samples_leaf=1, min_samples_split=2, n_estimators=8182; total time=  35.1s\n",
      "[CV] END max_depth=25, max_features=sqrt, min_samples_leaf=1, min_samples_split=2, n_estimators=8182; total time=  35.0s\n",
      "[CV] END max_depth=5, max_features=sqrt, min_samples_leaf=10, min_samples_split=15, n_estimators=9091; total time=  16.5s\n",
      "[CV] END max_depth=5, max_features=sqrt, min_samples_leaf=10, min_samples_split=15, n_estimators=9091; total time=  16.8s\n",
      "[CV] END max_depth=5, max_features=sqrt, min_samples_leaf=10, min_samples_split=15, n_estimators=9091; total time=  16.5s\n",
      "[CV] END max_depth=5, max_features=sqrt, min_samples_leaf=10, min_samples_split=15, n_estimators=9091; total time=  17.5s\n",
      "[CV] END max_depth=5, max_features=sqrt, min_samples_leaf=10, min_samples_split=15, n_estimators=9091; total time=  17.7s\n",
      "[CV] END max_depth=15, max_features=sqrt, min_samples_leaf=1, min_samples_split=15, n_estimators=1819; total time=   4.8s\n",
      "[CV] END max_depth=15, max_features=sqrt, min_samples_leaf=1, min_samples_split=15, n_estimators=1819; total time=   4.8s\n",
      "[CV] END max_depth=15, max_features=sqrt, min_samples_leaf=1, min_samples_split=15, n_estimators=1819; total time=   4.7s\n",
      "[CV] END max_depth=15, max_features=sqrt, min_samples_leaf=1, min_samples_split=15, n_estimators=1819; total time=   4.8s\n",
      "[CV] END max_depth=15, max_features=sqrt, min_samples_leaf=1, min_samples_split=15, n_estimators=1819; total time=   4.8s\n",
      "[CV] END max_depth=5, max_features=sqrt, min_samples_leaf=2, min_samples_split=10, n_estimators=5455; total time=   9.8s\n",
      "[CV] END max_depth=5, max_features=sqrt, min_samples_leaf=2, min_samples_split=10, n_estimators=5455; total time=   9.9s\n",
      "[CV] END max_depth=5, max_features=sqrt, min_samples_leaf=2, min_samples_split=10, n_estimators=5455; total time=   9.9s\n",
      "[CV] END max_depth=5, max_features=sqrt, min_samples_leaf=2, min_samples_split=10, n_estimators=5455; total time=  10.1s\n",
      "[CV] END max_depth=5, max_features=sqrt, min_samples_leaf=2, min_samples_split=10, n_estimators=5455; total time=  10.1s\n",
      "[CV] END max_depth=20, max_features=auto, min_samples_leaf=1, min_samples_split=15, n_estimators=5455; total time=  19.5s\n",
      "[CV] END max_depth=20, max_features=auto, min_samples_leaf=1, min_samples_split=15, n_estimators=5455; total time=  19.6s\n",
      "[CV] END max_depth=20, max_features=auto, min_samples_leaf=1, min_samples_split=15, n_estimators=5455; total time=  19.6s\n",
      "[CV] END max_depth=20, max_features=auto, min_samples_leaf=1, min_samples_split=15, n_estimators=5455; total time=  19.6s\n",
      "[CV] END max_depth=20, max_features=auto, min_samples_leaf=1, min_samples_split=15, n_estimators=5455; total time=  19.3s\n"
     ]
    },
    {
     "data": {
      "text/plain": [
       "RandomizedSearchCV(cv=5, estimator=RandomForestRegressor(), n_jobs=1,\n",
       "                   param_distributions={'max_depth': [5, 10, 15, 20, 25, 30],\n",
       "                                        'max_features': ['auto', 'sqrt'],\n",
       "                                        'min_samples_leaf': [1, 2, 5, 10],\n",
       "                                        'min_samples_split': [2, 5, 10, 15,\n",
       "                                                              100],\n",
       "                                        'n_estimators': [1, 910, 1819, 2728,\n",
       "                                                         3637, 4546, 5455, 6364,\n",
       "                                                         7273, 8182, 9091,\n",
       "                                                         10000]},\n",
       "                   random_state=42, scoring='neg_mean_squared_error',\n",
       "                   verbose=2)"
      ]
     },
     "execution_count": 58,
     "metadata": {},
     "output_type": "execute_result"
    }
   ],
   "source": [
    "rf_random.fit(X_train,y_train)"
   ]
  },
  {
   "cell_type": "code",
   "execution_count": 59,
   "id": "fc74bb3a",
   "metadata": {},
   "outputs": [
    {
     "data": {
      "text/plain": [
       "{'n_estimators': 5455,\n",
       " 'min_samples_split': 15,\n",
       " 'min_samples_leaf': 1,\n",
       " 'max_features': 'auto',\n",
       " 'max_depth': 20}"
      ]
     },
     "execution_count": 59,
     "metadata": {},
     "output_type": "execute_result"
    }
   ],
   "source": [
    "rf_random.best_params_"
   ]
  },
  {
   "cell_type": "code",
   "execution_count": 60,
   "id": "eeb7b0de",
   "metadata": {},
   "outputs": [
    {
     "data": {
      "text/plain": [
       "-55187248446.20036"
      ]
     },
     "execution_count": 60,
     "metadata": {},
     "output_type": "execute_result"
    }
   ],
   "source": [
    "rf_random.best_score_"
   ]
  },
  {
   "cell_type": "code",
   "execution_count": 3,
   "id": "7e6174dd",
   "metadata": {},
   "outputs": [],
   "source": [
    "df = pd.read_csv(r'C:\\Users\\ADMIN\\Desktop\\Cars24 E2E\\code\\Training_Batch_Files\\file9_semicleaned.csv')"
   ]
  },
  {
   "cell_type": "code",
   "execution_count": 6,
   "id": "c49f5a48",
   "metadata": {},
   "outputs": [
    {
     "data": {
      "text/html": [
       "<div>\n",
       "<style scoped>\n",
       "    .dataframe tbody tr th:only-of-type {\n",
       "        vertical-align: middle;\n",
       "    }\n",
       "\n",
       "    .dataframe tbody tr th {\n",
       "        vertical-align: top;\n",
       "    }\n",
       "\n",
       "    .dataframe thead th {\n",
       "        text-align: right;\n",
       "    }\n",
       "</style>\n",
       "<table border=\"1\" class=\"dataframe\">\n",
       "  <thead>\n",
       "    <tr style=\"text-align: right;\">\n",
       "      <th></th>\n",
       "      <th>Sl_No</th>\n",
       "      <th>Full_Info</th>\n",
       "      <th>Transimission_Type</th>\n",
       "      <th>Ownership</th>\n",
       "      <th>Fuel_Used</th>\n",
       "      <th>brand_name</th>\n",
       "      <th>km_driven</th>\n",
       "      <th>selling_price</th>\n",
       "      <th>Year_of_Manuacture</th>\n",
       "      <th>Place_of_Origin</th>\n",
       "      <th>Age</th>\n",
       "    </tr>\n",
       "  </thead>\n",
       "  <tbody>\n",
       "    <tr>\n",
       "      <th>0</th>\n",
       "      <td>0</td>\n",
       "      <td>\"2015 Maruti Swift\"</td>\n",
       "      <td>\"Manual\"</td>\n",
       "      <td>\"1st Owner\"</td>\n",
       "      <td>\"Diesel\"</td>\n",
       "      <td>\"Maruti-Swift\"</td>\n",
       "      <td>46245</td>\n",
       "      <td>432499</td>\n",
       "      <td>2015</td>\n",
       "      <td>\"New_Delhi\"</td>\n",
       "      <td>7</td>\n",
       "    </tr>\n",
       "    <tr>\n",
       "      <th>1</th>\n",
       "      <td>1</td>\n",
       "      <td>\"2012 Maruti Swift\"</td>\n",
       "      <td>\"Manual\"</td>\n",
       "      <td>\"1st Owner\"</td>\n",
       "      <td>\"Petrol\"</td>\n",
       "      <td>\"Maruti-Swift\"</td>\n",
       "      <td>95779</td>\n",
       "      <td>383499</td>\n",
       "      <td>2012</td>\n",
       "      <td>\"New_Delhi\"</td>\n",
       "      <td>10</td>\n",
       "    </tr>\n",
       "  </tbody>\n",
       "</table>\n",
       "</div>"
      ],
      "text/plain": [
       "   Sl_No            Full_Info Transimission_Type    Ownership Fuel_Used  \\\n",
       "0      0  \"2015 Maruti Swift\"           \"Manual\"  \"1st Owner\"  \"Diesel\"   \n",
       "1      1  \"2012 Maruti Swift\"           \"Manual\"  \"1st Owner\"  \"Petrol\"   \n",
       "\n",
       "       brand_name  km_driven  selling_price  Year_of_Manuacture  \\\n",
       "0  \"Maruti-Swift\"      46245         432499                2015   \n",
       "1  \"Maruti-Swift\"      95779         383499                2012   \n",
       "\n",
       "  Place_of_Origin  Age  \n",
       "0     \"New_Delhi\"    7  \n",
       "1     \"New_Delhi\"   10  "
      ]
     },
     "execution_count": 6,
     "metadata": {},
     "output_type": "execute_result"
    }
   ],
   "source": [
    "df.head(2)"
   ]
  },
  {
   "cell_type": "code",
   "execution_count": 10,
   "id": "9521fcc0",
   "metadata": {},
   "outputs": [
    {
     "data": {
      "text/plain": [
       "\"Manual\"       3956\n",
       "\"Automatic\"     765\n",
       "Name: Transimission_Type, dtype: int64"
      ]
     },
     "execution_count": 10,
     "metadata": {},
     "output_type": "execute_result"
    }
   ],
   "source": [
    "df['Transimission_Type'].value_counts()"
   ]
  },
  {
   "cell_type": "code",
   "execution_count": 14,
   "id": "9e9aca7e",
   "metadata": {},
   "outputs": [
    {
     "name": "stdout",
     "output_type": "stream",
     "text": [
      "4768\n",
      "4768\n",
      "4768\n",
      "4768\n",
      "4768\n",
      "4768\n",
      "4768\n",
      "4768\n",
      "4768\n",
      "4768\n",
      "4768\n"
     ]
    }
   ],
   "source": [
    "for column in df:\n",
    "    print(len(df[column]))"
   ]
  },
  {
   "cell_type": "code",
   "execution_count": 18,
   "id": "46907dc3",
   "metadata": {},
   "outputs": [
    {
     "data": {
      "text/plain": [
       "True"
      ]
     },
     "execution_count": 18,
     "metadata": {},
     "output_type": "execute_result"
    }
   ],
   "source": [
    "df.isnull().values.any()"
   ]
  },
  {
   "cell_type": "code",
   "execution_count": 20,
   "id": "13492cf1",
   "metadata": {},
   "outputs": [
    {
     "data": {
      "text/plain": [
       "Sl_No                  0\n",
       "Full_Info              0\n",
       "Transimission_Type    47\n",
       "Ownership              0\n",
       "Fuel_Used              0\n",
       "brand_name             0\n",
       "km_driven              0\n",
       "selling_price          0\n",
       "Year_of_Manuacture     0\n",
       "Place_of_Origin        0\n",
       "Age                    0\n",
       "dtype: int64"
      ]
     },
     "execution_count": 20,
     "metadata": {},
     "output_type": "execute_result"
    }
   ],
   "source": [
    "df.isna().sum()"
   ]
  },
  {
   "cell_type": "code",
   "execution_count": 21,
   "id": "b42e4c34",
   "metadata": {},
   "outputs": [],
   "source": [
    "df2 = df.dropna()"
   ]
  },
  {
   "cell_type": "code",
   "execution_count": 22,
   "id": "fe5aeee3",
   "metadata": {},
   "outputs": [
    {
     "data": {
      "text/plain": [
       "Sl_No                 0\n",
       "Full_Info             0\n",
       "Transimission_Type    0\n",
       "Ownership             0\n",
       "Fuel_Used             0\n",
       "brand_name            0\n",
       "km_driven             0\n",
       "selling_price         0\n",
       "Year_of_Manuacture    0\n",
       "Place_of_Origin       0\n",
       "Age                   0\n",
       "dtype: int64"
      ]
     },
     "execution_count": 22,
     "metadata": {},
     "output_type": "execute_result"
    }
   ],
   "source": [
    "df2.isna().sum()"
   ]
  },
  {
   "cell_type": "code",
   "execution_count": 25,
   "id": "308e8739",
   "metadata": {},
   "outputs": [
    {
     "name": "stdout",
     "output_type": "stream",
     "text": [
      "<class 'pandas.core.frame.DataFrame'>\n",
      "Int64Index: 4721 entries, 0 to 4767\n",
      "Data columns (total 11 columns):\n",
      " #   Column              Non-Null Count  Dtype \n",
      "---  ------              --------------  ----- \n",
      " 0   Sl_No               4721 non-null   int64 \n",
      " 1   Full_Info           4721 non-null   object\n",
      " 2   Transimission_Type  4721 non-null   object\n",
      " 3   Ownership           4721 non-null   object\n",
      " 4   Fuel_Used           4721 non-null   object\n",
      " 5   brand_name          4721 non-null   object\n",
      " 6   km_driven           4721 non-null   int64 \n",
      " 7   selling_price       4721 non-null   int64 \n",
      " 8   Year_of_Manuacture  4721 non-null   int64 \n",
      " 9   Place_of_Origin     4721 non-null   object\n",
      " 10  Age                 4721 non-null   int64 \n",
      "dtypes: int64(5), object(6)\n",
      "memory usage: 442.6+ KB\n"
     ]
    }
   ],
   "source": [
    "df2.info()"
   ]
  }
 ],
 "metadata": {
  "kernelspec": {
   "display_name": "Python 3 (ipykernel)",
   "language": "python",
   "name": "python3"
  },
  "language_info": {
   "codemirror_mode": {
    "name": "ipython",
    "version": 3
   },
   "file_extension": ".py",
   "mimetype": "text/x-python",
   "name": "python",
   "nbconvert_exporter": "python",
   "pygments_lexer": "ipython3",
   "version": "3.9.7"
  }
 },
 "nbformat": 4,
 "nbformat_minor": 5
}
